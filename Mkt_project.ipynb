{
 "cells": [
  {
   "cell_type": "code",
   "execution_count": 3,
   "metadata": {
    "collapsed": true
   },
   "outputs": [],
   "source": [
    "import pandas as pd"
   ]
  },
  {
   "cell_type": "code",
   "execution_count": 137,
   "metadata": {
    "collapsed": false
   },
   "outputs": [],
   "source": [
    "data = pd.read_excel('classproject.xlsx')"
   ]
  },
  {
   "cell_type": "code",
   "execution_count": 138,
   "metadata": {
    "collapsed": false
   },
   "outputs": [],
   "source": [
    "data.drop('respid',axis=1,inplace=True)"
   ]
  },
  {
   "cell_type": "code",
   "execution_count": 141,
   "metadata": {
    "collapsed": false
   },
   "outputs": [],
   "source": [
    "data = data.apply(pd.to_numeric)"
   ]
  },
  {
   "cell_type": "code",
   "execution_count": 142,
   "metadata": {
    "collapsed": false
   },
   "outputs": [
    {
     "data": {
      "text/plain": [
       "Index([u'brand', u'affect_1', u'affect_2', u'affect_3', u'hedonic_1',\n",
       "       u'hedonic 2', u'hedonic_3', u'hedonic 4', u'functional_1',\n",
       "       u'functional_2', u'functional_3', u'functional_4'],\n",
       "      dtype='object')"
      ]
     },
     "execution_count": 142,
     "metadata": {},
     "output_type": "execute_result"
    }
   ],
   "source": [
    "data.columns"
   ]
  },
  {
   "cell_type": "code",
   "execution_count": 143,
   "metadata": {
    "collapsed": true
   },
   "outputs": [],
   "source": [
    "df_hedonic = data[['hedonic_1','hedonic 2','hedonic_3','hedonic 4']]"
   ]
  },
  {
   "cell_type": "code",
   "execution_count": 144,
   "metadata": {
    "collapsed": true
   },
   "outputs": [],
   "source": [
    "df_functional = data[['functional_1','functional_2','functional_3','functional_4']]"
   ]
  },
  {
   "cell_type": "code",
   "execution_count": 145,
   "metadata": {
    "collapsed": true
   },
   "outputs": [],
   "source": [
    "df_combined = data[['hedonic_1','hedonic 2','hedonic_3','hedonic 4','functional_1','functional_2','functional_3','functional_4']]"
   ]
  },
  {
   "cell_type": "code",
   "execution_count": 146,
   "metadata": {
    "collapsed": true
   },
   "outputs": [],
   "source": [
    "df_affect =  data[['affect_1','affect_2','affect_3']]"
   ]
  },
  {
   "cell_type": "code",
   "execution_count": 147,
   "metadata": {
    "collapsed": false
   },
   "outputs": [],
   "source": [
    "import numpy as np\n",
    "from sklearn.decomposition import PCA"
   ]
  },
  {
   "cell_type": "code",
   "execution_count": 192,
   "metadata": {
    "collapsed": false
   },
   "outputs": [
    {
     "data": {
      "text/plain": [
       "array([ 0.5996445 ,  0.11616797,  0.07843488,  0.057144  ,  0.04628147,\n",
       "        0.04309341,  0.03792452,  0.02130925])"
      ]
     },
     "execution_count": 192,
     "metadata": {},
     "output_type": "execute_result"
    }
   ],
   "source": [
    "pca = PCA(n_components=8,tol=1)\n",
    "\n",
    "pca_combined = pca.fit(df_combined)\n",
    "\n",
    "pca_combined.explained_variance_ratio_"
   ]
  },
  {
   "cell_type": "code",
   "execution_count": 193,
   "metadata": {
    "collapsed": false
   },
   "outputs": [
    {
     "data": {
      "text/html": [
       "<div>\n",
       "<table border=\"1\" class=\"dataframe\">\n",
       "  <thead>\n",
       "    <tr style=\"text-align: right;\">\n",
       "      <th></th>\n",
       "      <th>hedonic_1</th>\n",
       "      <th>hedonic 2</th>\n",
       "      <th>hedonic_3</th>\n",
       "      <th>hedonic 4</th>\n",
       "      <th>functional_1</th>\n",
       "      <th>functional_2</th>\n",
       "      <th>functional_3</th>\n",
       "      <th>functional_4</th>\n",
       "    </tr>\n",
       "  </thead>\n",
       "  <tbody>\n",
       "    <tr>\n",
       "      <th>0</th>\n",
       "      <td>5</td>\n",
       "      <td>4</td>\n",
       "      <td>5</td>\n",
       "      <td>5</td>\n",
       "      <td>5</td>\n",
       "      <td>4</td>\n",
       "      <td>4</td>\n",
       "      <td>5</td>\n",
       "    </tr>\n",
       "    <tr>\n",
       "      <th>1</th>\n",
       "      <td>5</td>\n",
       "      <td>5</td>\n",
       "      <td>5</td>\n",
       "      <td>5</td>\n",
       "      <td>5</td>\n",
       "      <td>4</td>\n",
       "      <td>5</td>\n",
       "      <td>4</td>\n",
       "    </tr>\n",
       "    <tr>\n",
       "      <th>2</th>\n",
       "      <td>4</td>\n",
       "      <td>4</td>\n",
       "      <td>3</td>\n",
       "      <td>3</td>\n",
       "      <td>5</td>\n",
       "      <td>4</td>\n",
       "      <td>3</td>\n",
       "      <td>3</td>\n",
       "    </tr>\n",
       "    <tr>\n",
       "      <th>3</th>\n",
       "      <td>4</td>\n",
       "      <td>4</td>\n",
       "      <td>3</td>\n",
       "      <td>3</td>\n",
       "      <td>4</td>\n",
       "      <td>3</td>\n",
       "      <td>4</td>\n",
       "      <td>4</td>\n",
       "    </tr>\n",
       "    <tr>\n",
       "      <th>4</th>\n",
       "      <td>3</td>\n",
       "      <td>3</td>\n",
       "      <td>3</td>\n",
       "      <td>3</td>\n",
       "      <td>3</td>\n",
       "      <td>3</td>\n",
       "      <td>3</td>\n",
       "      <td>3</td>\n",
       "    </tr>\n",
       "  </tbody>\n",
       "</table>\n",
       "</div>"
      ],
      "text/plain": [
       "   hedonic_1  hedonic 2  hedonic_3  hedonic 4  functional_1  functional_2  \\\n",
       "0          5          4          5          5             5             4   \n",
       "1          5          5          5          5             5             4   \n",
       "2          4          4          3          3             5             4   \n",
       "3          4          4          3          3             4             3   \n",
       "4          3          3          3          3             3             3   \n",
       "\n",
       "   functional_3  functional_4  \n",
       "0             4             5  \n",
       "1             5             4  \n",
       "2             3             3  \n",
       "3             4             4  \n",
       "4             3             3  "
      ]
     },
     "execution_count": 193,
     "metadata": {},
     "output_type": "execute_result"
    }
   ],
   "source": [
    "df_combined.head()"
   ]
  },
  {
   "cell_type": "code",
   "execution_count": 194,
   "metadata": {
    "collapsed": false
   },
   "outputs": [
    {
     "data": {
      "text/plain": [
       "array([[-0.36997515, -0.37919153, -0.38632451, -0.34468557, -0.28605353,\n",
       "        -0.31622288, -0.38041752, -0.35318037],\n",
       "       [ 0.22864371,  0.28464229,  0.4731271 ,  0.24966076, -0.47000999,\n",
       "        -0.11383481, -0.53349913, -0.24906223],\n",
       "       [-0.25365543, -0.488044  ,  0.24141033,  0.40350752, -0.32198314,\n",
       "        -0.30421236,  0.14471026,  0.50913195],\n",
       "       [ 0.48962467,  0.18844735, -0.19511191, -0.12471931,  0.06157614,\n",
       "        -0.79398837,  0.12672171,  0.14444437],\n",
       "       [-0.49277978,  0.30748221,  0.26896723,  0.0894611 ,  0.01395131,\n",
       "        -0.31480277,  0.50902573, -0.47315272],\n",
       "       [-0.46054773,  0.6017535 , -0.11333458, -0.22874119, -0.13498426,\n",
       "        -0.02304652, -0.21404947,  0.54410677],\n",
       "       [-0.22292241,  0.01145209, -0.07472233,  0.49066892,  0.6696047 ,\n",
       "        -0.21988028, -0.45394536, -0.03241702],\n",
       "       [ 0.04622245,  0.21144611, -0.66316287,  0.5825859 , -0.35073264,\n",
       "         0.12689673,  0.15056884, -0.11034299]])"
      ]
     },
     "execution_count": 194,
     "metadata": {},
     "output_type": "execute_result"
    }
   ],
   "source": [
    "pca_combined.components_"
   ]
  },
  {
   "cell_type": "code",
   "execution_count": 195,
   "metadata": {
    "collapsed": false
   },
   "outputs": [
    {
     "data": {
      "text/plain": [
       "array([-0.36997515, -0.37919153, -0.38632451, -0.34468557, -0.28605353,\n",
       "       -0.31622288, -0.38041752, -0.35318037])"
      ]
     },
     "execution_count": 195,
     "metadata": {},
     "output_type": "execute_result"
    }
   ],
   "source": [
    "pca_combined.components_[0]"
   ]
  },
  {
   "cell_type": "code",
   "execution_count": 188,
   "metadata": {
    "collapsed": false
   },
   "outputs": [
    {
     "data": {
      "text/html": [
       "<div>\n",
       "<table border=\"1\" class=\"dataframe\">\n",
       "  <thead>\n",
       "    <tr style=\"text-align: right;\">\n",
       "      <th></th>\n",
       "      <th>hedonic_1</th>\n",
       "      <th>hedonic 2</th>\n",
       "      <th>hedonic_3</th>\n",
       "      <th>hedonic 4</th>\n",
       "      <th>functional_1</th>\n",
       "      <th>functional_2</th>\n",
       "      <th>functional_3</th>\n",
       "      <th>functional_4</th>\n",
       "    </tr>\n",
       "  </thead>\n",
       "  <tbody>\n",
       "    <tr>\n",
       "      <th>0</th>\n",
       "      <td>5</td>\n",
       "      <td>4</td>\n",
       "      <td>5</td>\n",
       "      <td>5</td>\n",
       "      <td>5</td>\n",
       "      <td>4</td>\n",
       "      <td>4</td>\n",
       "      <td>5</td>\n",
       "    </tr>\n",
       "    <tr>\n",
       "      <th>1</th>\n",
       "      <td>5</td>\n",
       "      <td>5</td>\n",
       "      <td>5</td>\n",
       "      <td>5</td>\n",
       "      <td>5</td>\n",
       "      <td>4</td>\n",
       "      <td>5</td>\n",
       "      <td>4</td>\n",
       "    </tr>\n",
       "    <tr>\n",
       "      <th>2</th>\n",
       "      <td>4</td>\n",
       "      <td>4</td>\n",
       "      <td>3</td>\n",
       "      <td>3</td>\n",
       "      <td>5</td>\n",
       "      <td>4</td>\n",
       "      <td>3</td>\n",
       "      <td>3</td>\n",
       "    </tr>\n",
       "    <tr>\n",
       "      <th>3</th>\n",
       "      <td>4</td>\n",
       "      <td>4</td>\n",
       "      <td>3</td>\n",
       "      <td>3</td>\n",
       "      <td>4</td>\n",
       "      <td>3</td>\n",
       "      <td>4</td>\n",
       "      <td>4</td>\n",
       "    </tr>\n",
       "    <tr>\n",
       "      <th>4</th>\n",
       "      <td>3</td>\n",
       "      <td>3</td>\n",
       "      <td>3</td>\n",
       "      <td>3</td>\n",
       "      <td>3</td>\n",
       "      <td>3</td>\n",
       "      <td>3</td>\n",
       "      <td>3</td>\n",
       "    </tr>\n",
       "  </tbody>\n",
       "</table>\n",
       "</div>"
      ],
      "text/plain": [
       "   hedonic_1  hedonic 2  hedonic_3  hedonic 4  functional_1  functional_2  \\\n",
       "0          5          4          5          5             5             4   \n",
       "1          5          5          5          5             5             4   \n",
       "2          4          4          3          3             5             4   \n",
       "3          4          4          3          3             4             3   \n",
       "4          3          3          3          3             3             3   \n",
       "\n",
       "   functional_3  functional_4  \n",
       "0             4             5  \n",
       "1             5             4  \n",
       "2             3             3  \n",
       "3             4             4  \n",
       "4             3             3  "
      ]
     },
     "execution_count": 188,
     "metadata": {},
     "output_type": "execute_result"
    }
   ],
   "source": [
    "df_combined.head()"
   ]
  },
  {
   "cell_type": "code",
   "execution_count": 196,
   "metadata": {
    "collapsed": false
   },
   "outputs": [],
   "source": [
    "dehalo = df_combined - df_combined * pca_combined.components_[0]"
   ]
  },
  {
   "cell_type": "code",
   "execution_count": 190,
   "metadata": {
    "collapsed": false
   },
   "outputs": [
    {
     "data": {
      "text/html": [
       "<div>\n",
       "<table border=\"1\" class=\"dataframe\">\n",
       "  <thead>\n",
       "    <tr style=\"text-align: right;\">\n",
       "      <th></th>\n",
       "      <th>hedonic_1</th>\n",
       "      <th>hedonic 2</th>\n",
       "      <th>hedonic_3</th>\n",
       "      <th>hedonic 4</th>\n",
       "      <th>functional_1</th>\n",
       "      <th>functional_2</th>\n",
       "      <th>functional_3</th>\n",
       "      <th>functional_4</th>\n",
       "    </tr>\n",
       "  </thead>\n",
       "  <tbody>\n",
       "    <tr>\n",
       "      <th>0</th>\n",
       "      <td>6.849876</td>\n",
       "      <td>5.516766</td>\n",
       "      <td>6.931623</td>\n",
       "      <td>6.723428</td>\n",
       "      <td>6.430268</td>\n",
       "      <td>5.264892</td>\n",
       "      <td>5.521670</td>\n",
       "      <td>6.765902</td>\n",
       "    </tr>\n",
       "    <tr>\n",
       "      <th>1</th>\n",
       "      <td>6.849876</td>\n",
       "      <td>6.895958</td>\n",
       "      <td>6.931623</td>\n",
       "      <td>6.723428</td>\n",
       "      <td>6.430268</td>\n",
       "      <td>5.264892</td>\n",
       "      <td>6.902088</td>\n",
       "      <td>5.412721</td>\n",
       "    </tr>\n",
       "    <tr>\n",
       "      <th>2</th>\n",
       "      <td>5.479901</td>\n",
       "      <td>5.516766</td>\n",
       "      <td>4.158974</td>\n",
       "      <td>4.034057</td>\n",
       "      <td>6.430268</td>\n",
       "      <td>5.264892</td>\n",
       "      <td>4.141253</td>\n",
       "      <td>4.059541</td>\n",
       "    </tr>\n",
       "    <tr>\n",
       "      <th>3</th>\n",
       "      <td>5.479901</td>\n",
       "      <td>5.516766</td>\n",
       "      <td>4.158974</td>\n",
       "      <td>4.034057</td>\n",
       "      <td>5.144214</td>\n",
       "      <td>3.948669</td>\n",
       "      <td>5.521670</td>\n",
       "      <td>5.412721</td>\n",
       "    </tr>\n",
       "    <tr>\n",
       "      <th>4</th>\n",
       "      <td>4.109925</td>\n",
       "      <td>4.137575</td>\n",
       "      <td>4.158974</td>\n",
       "      <td>4.034057</td>\n",
       "      <td>3.858161</td>\n",
       "      <td>3.948669</td>\n",
       "      <td>4.141253</td>\n",
       "      <td>4.059541</td>\n",
       "    </tr>\n",
       "  </tbody>\n",
       "</table>\n",
       "</div>"
      ],
      "text/plain": [
       "   hedonic_1  hedonic 2  hedonic_3  hedonic 4  functional_1  functional_2  \\\n",
       "0   6.849876   5.516766   6.931623   6.723428      6.430268      5.264892   \n",
       "1   6.849876   6.895958   6.931623   6.723428      6.430268      5.264892   \n",
       "2   5.479901   5.516766   4.158974   4.034057      6.430268      5.264892   \n",
       "3   5.479901   5.516766   4.158974   4.034057      5.144214      3.948669   \n",
       "4   4.109925   4.137575   4.158974   4.034057      3.858161      3.948669   \n",
       "\n",
       "   functional_3  functional_4  \n",
       "0      5.521670      6.765902  \n",
       "1      6.902088      5.412721  \n",
       "2      4.141253      4.059541  \n",
       "3      5.521670      5.412721  \n",
       "4      4.141253      4.059541  "
      ]
     },
     "execution_count": 190,
     "metadata": {},
     "output_type": "execute_result"
    }
   ],
   "source": [
    "dehalo.head()"
   ]
  },
  {
   "cell_type": "code",
   "execution_count": 197,
   "metadata": {
    "collapsed": false
   },
   "outputs": [
    {
     "data": {
      "text/plain": [
       "array([ 0.60201414,  0.11637908,  0.0779539 ])"
      ]
     },
     "execution_count": 197,
     "metadata": {},
     "output_type": "execute_result"
    }
   ],
   "source": [
    "pca_2 = PCA(n_components=3)\n",
    "\n",
    "pca_dehalo = pca_2.fit(dehalo)\n",
    "\n",
    "pca_dehalo.explained_variance_ratio_"
   ]
  }
 ],
 "metadata": {
  "kernelspec": {
   "display_name": "Python 2",
   "language": "python",
   "name": "python2"
  },
  "language_info": {
   "codemirror_mode": {
    "name": "ipython",
    "version": 2
   },
   "file_extension": ".py",
   "mimetype": "text/x-python",
   "name": "python",
   "nbconvert_exporter": "python",
   "pygments_lexer": "ipython2",
   "version": "2.7.11"
  }
 },
 "nbformat": 4,
 "nbformat_minor": 1
}
